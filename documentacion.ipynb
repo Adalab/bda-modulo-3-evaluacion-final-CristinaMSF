{
 "cells": [
  {
   "cell_type": "markdown",
   "metadata": {},
   "source": [
    " Fase 1: Exploración y Limpieza\n",
    "\n",
    "PRIMERO IMPORTO LIBRERIAS\n",
    "LECTURA ARCHIVOS"
   ]
  },
  {
   "cell_type": "code",
   "execution_count": null,
   "metadata": {},
   "outputs": [],
   "source": [
    "Points Accumulated\t"
   ]
  },
  {
   "cell_type": "code",
   "execution_count": null,
   "metadata": {},
   "outputs": [],
   "source": [
    "Salary\t\n",
    "\n",
    "Cancellation Year\t\n",
    "\n",
    "Cancellation Month"
   ]
  },
  {
   "cell_type": "code",
   "execution_count": null,
   "metadata": {},
   "outputs": [],
   "source": []
  },
  {
   "cell_type": "code",
   "execution_count": null,
   "metadata": {},
   "outputs": [],
   "source": []
  },
  {
   "cell_type": "code",
   "execution_count": null,
   "metadata": {},
   "outputs": [],
   "source": []
  }
 ],
 "metadata": {
  "kernelspec": {
   "display_name": "base",
   "language": "python",
   "name": "python3"
  },
  "language_info": {
   "name": "python",
   "version": "3.12.7"
  }
 },
 "nbformat": 4,
 "nbformat_minor": 2
}
