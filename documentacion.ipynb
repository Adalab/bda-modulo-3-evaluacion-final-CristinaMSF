{
 "cells": [
  {
   "cell_type": "markdown",
   "metadata": {},
   "source": [
    " Fase 1: Exploración y Limpieza\n",
    "\n",
    "PRIMERO IMPORTO LIBRERIAS\n",
    "LECTURA ARCHIVOS"
   ]
  },
  {
   "cell_type": "code",
   "execution_count": null,
   "metadata": {},
   "outputs": [],
   "source": [
    "Points Accumulated\t"
   ]
  },
  {
   "cell_type": "code",
   "execution_count": null,
   "metadata": {},
   "outputs": [],
   "source": [
    "Salary\t\n",
    "\n",
    "Cancellation Year\t\n",
    "\n",
    "Cancellation Month"
   ]
  },
  {
   "cell_type": "code",
   "execution_count": null,
   "metadata": {},
   "outputs": [],
   "source": [
    "Voy a cargar el archivo y hacer una exploración inicial para identificar problemas como valores nulos, atípicos o datos faltantes. Vamos a ello.\n",
    "\n",
    "💡 Exploración Inicial de los Datos\n",
    "📊 Estructura de los Datos:\n",
    "El archivo contiene 405,624 filas y 10 columnas.\n",
    "\n",
    "Todas las columnas tienen el mismo número de datos (405,624), lo que indica ausencia de valores nulos.\n",
    "\n",
    "Los tipos de datos son:\n",
    "\n",
    "int64 para 9 columnas (como \"Year\", \"Month\", \"Flights Booked\").\n",
    "\n",
    "float64 para 1 columna (\"Points Accumulated\").\n",
    "\n",
    "El tamaño en memoria es de aproximadamente 30.9 MB.\n",
    "\n",
    "\n",
    "🚩 Detección de Valores Nulos:\n",
    "\n",
    "No se han encontrado valores nulos en ninguna de las columnas, lo cual es un buen indicador de la calidad de los datos.\n",
    "\n",
    "📈 Estadísticas Básicas:\n",
    "Year:\n",
    "\n",
    "Rango: 2017 - 2018 (dos años de datos).\n",
    "\n",
    "Month:\n",
    "\n",
    "Rango: 1 - 12 (corresponde a meses del año).\n",
    "\n",
    "Flights Booked:\n",
    "\n",
    "Media: 4.12, Mín: 0, Máx: 21 (algunos usuarios no han reservado vuelos).\n",
    "\n",
    "Flights with Companions:\n",
    "\n",
    "Media: 1.03, Máx: 11 (pocos casos con muchos acompañantes).\n",
    "\n",
    "Distance:\n",
    "\n",
    "Media: 1208.88, Máx: 6293 (algunos vuelos son muy largos).\n",
    "\n",
    "Points Accumulated:\n",
    "\n",
    "Media: 123.69, Máx: 676.5 (hay clientes con muchos puntos acumulados).\n",
    "\n",
    "Points Redeemed:\n",
    "\n",
    "Media: 30.69, Máx: 876 (variedad en el uso de puntos).\n",
    "\n",
    "Dollar Cost Points Redeemed:\n",
    "\n",
    "Media: 2.48, Máx: 71 (algunas redenciones son de alto valor).\n",
    "\n",
    "📝 Observaciones:\n",
    "Aunque no hay valores nulos, hay columnas con valores cero, lo que puede ser importante según el contexto (por ejemplo, clientes que no han volado).\n",
    "\n",
    "Algunas columnas tienen valores máximos que destacan:\n",
    "\n",
    "Flights Booked (21) y Flights with Companions (11) pueden ser atípicos.\n",
    "\n",
    "Distance (6293) es considerablemente alto.\n",
    "\n",
    "El valor máximo de Points Redeemed (876) y Dollar Cost Points Redeemed (71) también puede indicar un uso inusual."
   ]
  },
  {
   "cell_type": "code",
   "execution_count": null,
   "metadata": {},
   "outputs": [],
   "source": []
  },
  {
   "cell_type": "code",
   "execution_count": null,
   "metadata": {},
   "outputs": [],
   "source": []
  }
 ],
 "metadata": {
  "kernelspec": {
   "display_name": "base",
   "language": "python",
   "name": "python3"
  },
  "language_info": {
   "name": "python",
   "version": "3.12.7"
  }
 },
 "nbformat": 4,
 "nbformat_minor": 2
}
